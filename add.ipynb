b= 10
c= 20
a=c+b 
print(a)
